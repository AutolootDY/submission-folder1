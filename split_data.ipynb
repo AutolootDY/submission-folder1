{
 "cells": [
  {
   "cell_type": "code",
   "execution_count": null,
   "metadata": {},
   "outputs": [],
   "source": [
    "import pandas as pd\n",
    "\n",
    "# 1. โหลดข้อมูลจากไฟล์ CSV\n",
    "df = pd.read_csv('S50M24_20240502_20240516.csv')\n",
    "\n",
    "# หากข้อมูลเป็น Time Series ให้รวมคอลัมน์ Date และ Time_ แล้วจัดเรียงข้อมูลตามเวลา\n",
    "if 'Date' in df.columns and 'Time_' in df.columns:\n",
    "    df['Datetime'] = pd.to_datetime(df['Date'] + ' ' + df['Time_'])\n",
    "    df.sort_values('Datetime', inplace=True)\n",
    "    # หากไม่ต้องการใช้คอลัมน์ Datetime ในการวิเคราะห์ต่อ สามารถลบออกได้ด้วย df.drop('Datetime', axis=1, inplace=True)\n",
    "\n",
    "# 2. คำนวณ index สำหรับแบ่งข้อมูล 70% และ 30%\n",
    "split_index = int(0.7 * len(df))\n",
    "\n",
    "# 3. แบ่งข้อมูล\n",
    "df_in_sample = df.iloc[:split_index]\n",
    "df_out_sample = df.iloc[split_index:]\n",
    "\n",
    "# 4. บันทึกไฟล์ CSV สำหรับข้อมูล in-sample และ out-of-sample\n",
    "df_in_sample.to_csv('in_sample.csv', index=False)\n",
    "df_out_sample.to_csv('out_sample.csv', index=False)\n",
    "\n",
    "print(\"แบ่งข้อมูลสำเร็จ! ไฟล์ in_sample.csv และ out_sample.csv ถูกบันทึกแล้ว\")\n"
   ]
  }
 ],
 "metadata": {
  "language_info": {
   "name": "python"
  }
 },
 "nbformat": 4,
 "nbformat_minor": 2
}
